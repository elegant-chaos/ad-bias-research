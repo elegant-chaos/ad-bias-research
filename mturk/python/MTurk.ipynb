{
 "cells": [
  {
   "cell_type": "markdown",
   "metadata": {
    "colab_type": "text",
    "id": "ROfpSagcgSX8"
   },
   "source": [
    "# Annotating Training Data With MTurk\n",
    "\n",
    "## Pre-requisites\n",
    "If you haven't already, you'll need to setup MTurk and AWS accounts that are linked together to use MTurk with Python. The MTurk account will be used to post tasks to the MTurk crowd and the AWS accounts will be used to connect to MTurk via API and provide access to any additional AWS resources that are needed to execute your task.\n",
    "\n",
    "1. If you don't have an AWS account already, visit https://aws.amazon.com and create an account you can use for your project.\n",
    "2. If you don't have an MTurk Requester account already, visit https://requester.mturk.com and create a new account.\n",
    "\n",
    "After you've setup your accounts, you will need to link them together. When logged into both the root of your AWS account and your MTurk account, visit https://requester.mturk.com/developer to link them together.\n",
    "\n",
    "From your AWS console create a new AWS IAM User or select an existing one you plan to use. Add the AmazonMechanicalTurkFullAccess policy to your user. Then select the Security Credentials tab and create a new Access Key, copy the Access Key and Secret Access Key for future use.\n",
    "\n",
    "If you haven't installed the awscli yet, install it with pip (pip install awscli) and configure a profile using the access key and secret key above (aws configure --profile mturk). \n",
    "\n",
    "To post tasks to MTurk for Workers to complete you will first need to add funds to your account that will be used to reward Workers. Visit https://requester.mturk.com/account to get started with as little as $1.00.\n",
    "\n",
    "We also recommend installing xmltodict as shown below."
   ]
  },
  {
   "cell_type": "code",
   "execution_count": null,
   "metadata": {},
   "outputs": [],
   "source": [
    "!pip install boto3"
   ]
  },
  {
   "cell_type": "code",
   "execution_count": null,
   "metadata": {
    "colab": {
     "base_uri": "https://localhost:8080/",
     "height": 110
    },
    "colab_type": "code",
    "id": "x3wDgIiOgSX8",
    "outputId": "30e3c218-bd67-48a2-c1b4-eee933afb3fc",
    "scrolled": true
   },
   "outputs": [],
   "source": [
    "!pip install xmltodict"
   ]
  },
  {
   "cell_type": "markdown",
   "metadata": {
    "colab_type": "text",
    "id": "OqSOIDUfgSX8"
   },
   "source": [
    "## Overview\n",
    "Amazon Mechanical Turk allows you to post tasks for Workers to complete at https://worker.mturk.com. To post a task to\n",
    "MTurk you create an HTML form that includes the information you want them to provide. In this example we'll be asking Workers to rate the sentiment of Tweets on a scale of 1 (negative) to 10 (positive).\n",
    "\n",
    "MTurk has a Sandbox environment that can be used for testing. Workers won't work see your tasks in the Sandbox but you can log in to do them yourself to test the task interface at https://workersandbox.mturk.com. It's recommended you test first in the Sandbox to make sure your task returns the data you need before moving to the Production environment. There is no cost to use the Sandbox environment."
   ]
  },
  {
   "cell_type": "code",
   "execution_count": 1,
   "metadata": {
    "colab": {},
    "colab_type": "code",
    "id": "QIyO1-vAgSZg"
   },
   "outputs": [],
   "source": [
    "import boto3\n",
    "import xmltodict\n",
    "import json\n",
    "import os\n",
    "from datetime import datetime\n",
    "import random\n"
   ]
  },
  {
   "cell_type": "code",
   "execution_count": 2,
   "metadata": {
    "colab": {
     "base_uri": "https://localhost:8080/",
     "height": 395
    },
    "colab_type": "code",
    "id": "TA9iYQyngSZg",
    "outputId": "a483a79b-104e-4d0b-ae7d-406c63231cec"
   },
   "outputs": [],
   "source": [
    "create_hits_in_production = False\n",
    "environments = {\n",
    "        \"production\": {\n",
    "            \"endpoint\": \"https://mturk-requester.us-east-1.amazonaws.com\",\n",
    "            \"preview\": \"https://www.mturk.com/mturk/preview\"\n",
    "        },\n",
    "        \"sandbox\": {\n",
    "            \"endpoint\": \"https://mturk-requester-sandbox.us-east-1.amazonaws.com\",\n",
    "            \"preview\": \"https://workersandbox.mturk.com/mturk/preview\"\n",
    "        },\n",
    "}\n",
    "mturk_environment = environments[\"production\"] if create_hits_in_production else environments[\"sandbox\"]\n",
    "\n",
    "session = boto3.Session(profile_name='mturk')\n",
    "\n",
    "client = session.client(\n",
    "    service_name='mturk',\n",
    "    region_name='us-east-1',\n",
    "    endpoint_url=mturk_environment['endpoint'],\n",
    ")"
   ]
  },
  {
   "cell_type": "code",
   "execution_count": 3,
   "metadata": {
    "colab": {
     "base_uri": "https://localhost:8080/",
     "height": 171
    },
    "colab_type": "code",
    "id": "O6bWIoa8gSZg",
    "outputId": "612a8ba6-577f-4a9b-c9fd-47bc31d4e538"
   },
   "outputs": [
    {
     "name": "stdout",
     "output_type": "stream",
     "text": [
      "10000.00\n"
     ]
    }
   ],
   "source": [
    "# This will return your current MTurk balance if you are connected to Production.\n",
    "# If you are connected to the Sandbox it will return $10,000.\n",
    "print(client.get_account_balance()['AvailableBalance'])"
   ]
  },
  {
   "cell_type": "markdown",
   "metadata": {
    "colab_type": "text",
    "id": "NdLsBByogSZg"
   },
   "source": [
    "## Define your task\n",
    "For this project we are going to get the sentiment of a set of tweets that we plan to train a model to evaluate. We will create an MTurk Human Intelligence Task (HIT) for each tweet."
   ]
  },
  {
   "cell_type": "code",
   "execution_count": 4,
   "metadata": {
    "colab": {},
    "colab_type": "code",
    "id": "mCOfb04XgSbE"
   },
   "outputs": [],
   "source": [
    "imagePath = \"https://my-image-repo-520.s3.amazonaws.com/ads\"\n",
    "with open (\"ad_filelist.csv\",\"r\") as f:\n",
    "    imageNames = f.readlines()\n",
    "listOfImages = [\"{}/{}\".format(imagePath,img.strip().replace(\" \",\"+\")) for img in imageNames]\n"
   ]
  },
  {
   "cell_type": "code",
   "execution_count": 5,
   "metadata": {},
   "outputs": [
    {
     "data": {
      "text/plain": [
       "['https://my-image-repo-520.s3.amazonaws.com/ads/Alternet+Page+-+Adidas+Ad.png',\n",
       " 'https://my-image-repo-520.s3.amazonaws.com/ads/Alternet+Page+-+Impeach+Ad.png',\n",
       " 'https://my-image-repo-520.s3.amazonaws.com/ads/Alternet+Page+-+Liberal+Quiz+Ad.png',\n",
       " 'https://my-image-repo-520.s3.amazonaws.com/ads/Alternet+Page+-+NRA+Ad.png',\n",
       " 'https://my-image-repo-520.s3.amazonaws.com/ads/Alternet+Page+-+Polar+Bear+Ad.png',\n",
       " 'https://my-image-repo-520.s3.amazonaws.com/ads/Alternet+Page+-+Wallet+Ad.png',\n",
       " 'https://my-image-repo-520.s3.amazonaws.com/ads/Breitbart+Page+-+Adias+Ad.PNG',\n",
       " 'https://my-image-repo-520.s3.amazonaws.com/ads/Breitbart+Page+-+NRA+Ad.PNG',\n",
       " 'https://my-image-repo-520.s3.amazonaws.com/ads/Breitbart+Page+-+Wallet+Ad.PNG',\n",
       " 'https://my-image-repo-520.s3.amazonaws.com/ads/Breitbart+Page+-+Wildlife+Ad.PNG',\n",
       " 'https://my-image-repo-520.s3.amazonaws.com/ads/Brietbart+Page+-+Impeach+Ad.PNG',\n",
       " 'https://my-image-repo-520.s3.amazonaws.com/ads/Brietbart+Page+-+Liberal+Quiz+Ad.PNG',\n",
       " 'https://my-image-repo-520.s3.amazonaws.com/ads/Daily+Kos+Page+-+Adidas+Ad.PNG',\n",
       " 'https://my-image-repo-520.s3.amazonaws.com/ads/Daily+Kos+Page+-+Impeach+Ad.png',\n",
       " 'https://my-image-repo-520.s3.amazonaws.com/ads/Daily+Kos+Page+-+Liberal+Quiz+Ad.png',\n",
       " 'https://my-image-repo-520.s3.amazonaws.com/ads/Daily+Kos+Page+-+NRA+Ad.png',\n",
       " 'https://my-image-repo-520.s3.amazonaws.com/ads/Daily+Kos+Page+-+Polar+Bear+Ad.png',\n",
       " 'https://my-image-repo-520.s3.amazonaws.com/ads/Daily+Kos+Page+-+Wallet+Ad.PNG',\n",
       " 'https://my-image-repo-520.s3.amazonaws.com/ads/NewsMax+Page+-+Adidas+Ad.png',\n",
       " 'https://my-image-repo-520.s3.amazonaws.com/ads/NewsMax+Page+-+Impeach+Ad.png',\n",
       " 'https://my-image-repo-520.s3.amazonaws.com/ads/NewsMax+Page+-+Liberal+Quiz+Ad.png',\n",
       " 'https://my-image-repo-520.s3.amazonaws.com/ads/NewsMax+Page+-+NRA+Ad.png',\n",
       " 'https://my-image-repo-520.s3.amazonaws.com/ads/NewsMax+Page+-+Polar+Bear+Ad.png',\n",
       " 'https://my-image-repo-520.s3.amazonaws.com/ads/NewsMax+Page+-+Wallet+Ad.png',\n",
       " 'https://my-image-repo-520.s3.amazonaws.com/ads/NYT+Page+-+Adidas+Ad.png',\n",
       " 'https://my-image-repo-520.s3.amazonaws.com/ads/NYT+Page+-+Impeach+Ad.png',\n",
       " 'https://my-image-repo-520.s3.amazonaws.com/ads/NYT+Page+-+Liberal++Quiz+Ad.png',\n",
       " 'https://my-image-repo-520.s3.amazonaws.com/ads/NYT+Page+-+NRA+Ad.png',\n",
       " 'https://my-image-repo-520.s3.amazonaws.com/ads/NYT+Page+-+Polar+Bear+Ad.png',\n",
       " 'https://my-image-repo-520.s3.amazonaws.com/ads/NYT+Page+-+Wallet+Ad.png',\n",
       " 'https://my-image-repo-520.s3.amazonaws.com/ads/NYT+Page2+-+Adidas+Ad.png',\n",
       " 'https://my-image-repo-520.s3.amazonaws.com/ads/NYT+Page2+-+Impeach+Ad.png',\n",
       " 'https://my-image-repo-520.s3.amazonaws.com/ads/NYT+Page2+-+Liberal+Quiz+Ad.png',\n",
       " 'https://my-image-repo-520.s3.amazonaws.com/ads/NYT+Page2+-+NRA+Ad.png',\n",
       " 'https://my-image-repo-520.s3.amazonaws.com/ads/NYT+Page2+-+Polar+Bear+Ad.png',\n",
       " 'https://my-image-repo-520.s3.amazonaws.com/ads/NYT+Page2+-+Wallet+Ad.png']"
      ]
     },
     "execution_count": 5,
     "metadata": {},
     "output_type": "execute_result"
    }
   ],
   "source": [
    "listOfImages"
   ]
  },
  {
   "cell_type": "markdown",
   "metadata": {
    "colab_type": "text",
    "id": "V9v3il3MgSbE"
   },
   "source": [
    "MTurk accepts an XML document containing the HTML that will be displayed to Workers. Workers will see these HTML for each item tweet that is submitted. To use the HTML for this example task, download it from [here](https://s3.amazonaws.com/mturk/samples/jupyter-examples/SentimentQuestion.html) and store it in the same directory as this notebook. Within the HTML is a variable ${content} that will be replaced with a different tweet when the HIT is created.\n",
    "\n",
    "Here the HTML is loaded and inserted into the XML Document."
   ]
  },
  {
   "cell_type": "code",
   "execution_count": 6,
   "metadata": {
    "colab": {},
    "colab_type": "code",
    "id": "Wzd6NNj5gSbE"
   },
   "outputs": [],
   "source": [
    "html_layout = open('./survey.html', 'r',encoding=\"utf-8\").read()\n",
    "QUESTION_XML = \"\"\"<HTMLQuestion xmlns=\"http://mechanicalturk.amazonaws.com/AWSMechanicalTurkDataSchemas/2011-11-11/HTMLQuestion.xsd\">\n",
    "        <HTMLContent><![CDATA[{}]]></HTMLContent>\n",
    "        <FrameHeight>650</FrameHeight>\n",
    "        </HTMLQuestion>\"\"\"\n",
    "question_xml = QUESTION_XML.format(html_layout)"
   ]
  },
  {
   "cell_type": "markdown",
   "metadata": {
    "colab_type": "text",
    "id": "iUN6DcOMgSbE"
   },
   "source": [
    "In Mechanical Turk each task is representated by a Human Intelligence Task (HIT) which is an individual item you want annotated by one or more Workers and the interface that should be displayed. The definition below requests that five Workers review each item, that the HIT remain live on the worker.mturk.com website for no more than an hour, and that Workers provide a response for each item in less than ten minutes. Each response has a reward of \\$0.05 so the total Worker reward for this task would be \\$0.25 plus \\$0.05 in MTurk fees. An appropriate title, description, keywords are also provided to let Workers know what is involved in this task."
   ]
  },
  {
   "cell_type": "code",
   "execution_count": 7,
   "metadata": {
    "colab": {},
    "colab_type": "code",
    "id": "1pBHrQkVgSbE"
   },
   "outputs": [],
   "source": [
    "TaskAttributes = {\n",
    "    'MaxAssignments': 5,                 \n",
    "    'LifetimeInSeconds': 60*60,           # How long the task will be available on the MTurk website (1 hour)\n",
    "    'AssignmentDurationInSeconds': 60*10, # How long Workers have to complete each item (10 minutes)\n",
    "    'Reward': '0.05',                     # The reward you will offer Workers for each response\n",
    "    'Title': 'Answer questions about ads',\n",
    "    'Keywords': 'survey, ad',\n",
    "    'Description': 'Rate the relevancy of an ad from 1 to 5'\n",
    "}\n"
   ]
  },
  {
   "cell_type": "code",
   "execution_count": 8,
   "metadata": {},
   "outputs": [
    {
     "data": {
      "text/plain": [
       "['https://my-image-repo-520.s3.amazonaws.com/ads/Alternet+Page+-+NRA+Ad.png',\n",
       " 'https://my-image-repo-520.s3.amazonaws.com/ads/Alternet+Page+-+NRA+Ad.png',\n",
       " 'https://my-image-repo-520.s3.amazonaws.com/ads/NYT+Page2+-+NRA+Ad.png',\n",
       " 'https://my-image-repo-520.s3.amazonaws.com/ads/NYT+Page2+-+Impeach+Ad.png',\n",
       " 'https://my-image-repo-520.s3.amazonaws.com/ads/Daily+Kos+Page+-+Impeach+Ad.png',\n",
       " 'https://my-image-repo-520.s3.amazonaws.com/ads/NewsMax+Page+-+Wallet+Ad.png',\n",
       " 'https://my-image-repo-520.s3.amazonaws.com/ads/Alternet+Page+-+Liberal+Quiz+Ad.png',\n",
       " 'https://my-image-repo-520.s3.amazonaws.com/ads/Breitbart+Page+-+NRA+Ad.PNG',\n",
       " 'https://my-image-repo-520.s3.amazonaws.com/ads/NYT+Page+-+Adidas+Ad.png',\n",
       " 'https://my-image-repo-520.s3.amazonaws.com/ads/NYT+Page2+-+Wallet+Ad.png',\n",
       " 'https://my-image-repo-520.s3.amazonaws.com/ads/Daily+Kos+Page+-+Adidas+Ad.PNG',\n",
       " 'https://my-image-repo-520.s3.amazonaws.com/ads/Daily+Kos+Page+-+Wallet+Ad.PNG']"
      ]
     },
     "execution_count": 8,
     "metadata": {},
     "output_type": "execute_result"
    }
   ],
   "source": [
    "random_images = random.choices(listOfImages, k=12)\n",
    "random_images"
   ]
  },
  {
   "cell_type": "markdown",
   "metadata": {
    "colab_type": "text",
    "id": "uRHpAKh0gSbE"
   },
   "source": [
    "## Create the tasks\n",
    "Here a HIT is created for each tweet so that it can be completed by Workers. Prior to creating the HIT, the tweet is inserted into the Question XML content. The HIT Id returned for each task is stored in a results array so that we can retrieve the results later."
   ]
  },
  {
   "cell_type": "code",
   "execution_count": 16,
   "metadata": {
    "colab": {},
    "colab_type": "code",
    "id": "cKJVDaRXgSbE",
    "outputId": "01bdd35e-2035-43d9-cc35-851505a8d5df",
    "scrolled": true
   },
   "outputs": [
    {
     "name": "stdout",
     "output_type": "stream",
     "text": [
      "You can view the HITs here:\n",
      "https://workersandbox.mturk.com/mturk/preview?groupId=3C7PNR93YGTP8MKRMKX73R97TEGE4I\n"
     ]
    }
   ],
   "source": [
    "import random\n",
    "results = []\n",
    "hit_type_id = ''\n",
    "numberOFImage = 12\n",
    "question = question_xml\n",
    "for i in range(numberOFImage):\n",
    "    question = question.replace('${{url_{0}}}'.format(i+1), random_images[i])\n",
    "    \n",
    "response = client.create_hit(\n",
    "    **TaskAttributes,\n",
    "    Question = question\n",
    ")\n",
    "hit_type_id = response['HIT']['HITTypeId']\n",
    "result = {}\n",
    "for i in range(numberOFImage):\n",
    "    result['image{}'.format(i+1)] = random_images[i]\n",
    "    \n",
    "    \n",
    "result['hit_id'] = response['HIT']['HITId']\n",
    "results.append(result)\n",
    "\n",
    "print(\"You can view the HITs here:\")\n",
    "print(mturk_environment['preview'] + \"?groupId={}\".format(hit_type_id))\n",
    "\n",
    "if not os.path.exists(\"result/\"):\n",
    "    os.makedirs(\"result/\")\n",
    "    \n",
    "now = datetime.now()\n",
    "\n",
    "dt_string = now.strftime(\"%d-%m-%Y-%H-%M-%S\")\n",
    "with open('result/result-{}.json'.format(dt_string), 'w') as outfile:\n",
    "    json.dump(results, outfile)"
   ]
  },
  {
   "cell_type": "code",
   "execution_count": 37,
   "metadata": {},
   "outputs": [
    {
     "data": {
      "text/plain": [
       "[{'image1': 'https://my-image-repo-520.s3.amazonaws.com/ads/Alternet+Page+-+NRA+Ad.png',\n",
       "  'image2': 'https://my-image-repo-520.s3.amazonaws.com/ads/Alternet+Page+-+NRA+Ad.png',\n",
       "  'image3': 'https://my-image-repo-520.s3.amazonaws.com/ads/NYT+Page2+-+NRA+Ad.png',\n",
       "  'image4': 'https://my-image-repo-520.s3.amazonaws.com/ads/NYT+Page2+-+Impeach+Ad.png',\n",
       "  'image5': 'https://my-image-repo-520.s3.amazonaws.com/ads/Daily+Kos+Page+-+Impeach+Ad.png',\n",
       "  'image6': 'https://my-image-repo-520.s3.amazonaws.com/ads/NewsMax+Page+-+Wallet+Ad.png',\n",
       "  'image7': 'https://my-image-repo-520.s3.amazonaws.com/ads/Alternet+Page+-+Liberal+Quiz+Ad.png',\n",
       "  'image8': 'https://my-image-repo-520.s3.amazonaws.com/ads/Breitbart+Page+-+NRA+Ad.PNG',\n",
       "  'image9': 'https://my-image-repo-520.s3.amazonaws.com/ads/NYT+Page+-+Adidas+Ad.png',\n",
       "  'image10': 'https://my-image-repo-520.s3.amazonaws.com/ads/NYT+Page2+-+Wallet+Ad.png',\n",
       "  'image11': 'https://my-image-repo-520.s3.amazonaws.com/ads/Daily+Kos+Page+-+Adidas+Ad.PNG',\n",
       "  'image12': 'https://my-image-repo-520.s3.amazonaws.com/ads/Daily+Kos+Page+-+Wallet+Ad.PNG',\n",
       "  'hit_id': '3WUVMVA7OBZJVEILYGFUHO4YLO9ZA2',\n",
       "  'status': 'Assignable',\n",
       "  'assignments_submitted_count': 0,\n",
       "  'answers': []}]"
      ]
     },
     "execution_count": 37,
     "metadata": {},
     "output_type": "execute_result"
    }
   ],
   "source": [
    "results"
   ]
  },
  {
   "cell_type": "markdown",
   "metadata": {
    "colab_type": "text",
    "id": "YfxM_POHgSbE"
   },
   "source": [
    "## Get Results\n",
    "Depending on the task, results will be available anywhere from a few minutes to a few hours. Here we retrieve the status of each HIT and the responses that have been provided by Workers."
   ]
  },
  {
   "cell_type": "code",
   "execution_count": 50,
   "metadata": {},
   "outputs": [],
   "source": [
    "def getAnsewer(answerDict):\n",
    "    answer ={}\n",
    "    for ans in answer_dict['QuestionFormAnswers']['Answer']:\n",
    "        if ans['QuestionIdentifier'] == \"age\":\n",
    "            answer[\"age\"] = ans[\"FreeText\"]\n",
    "        elif  ans['QuestionIdentifier'] == \"gender\":\n",
    "            answer[\"gender\"] = ans[\"FreeText\"]\n",
    "        elif  ans['QuestionIdentifier'] == \"race\":\n",
    "            answer[\"race\"] = ans[\"FreeText\"]\n",
    "        elif  ans['QuestionIdentifier'] == \"zipCode\":\n",
    "            answer[\"zipCode\"] = ans[\"FreeText\"]\n",
    "        elif  ans['QuestionIdentifier'] == \"Hispanic\":\n",
    "            answer[\"Hispanic\"] = ans[\"FreeText\"]\n",
    "        elif  ans['QuestionIdentifier'] == \"education\":\n",
    "            answer[\"education\"] = ans[\"FreeText\"]\n",
    "        elif  ans['QuestionIdentifier'] == \"occupation\":\n",
    "            answer[\"occupation\"] = ans[\"FreeText\"]\n",
    "                \n",
    "        elif  ans['QuestionIdentifier'] == \"d1.strong_disagree\" and ans[\"FreeText\"] == \"true\":\n",
    "            answer[\"feelAboutAd\"] = 1\n",
    "        elif  ans['QuestionIdentifier'] == \"d1.disagree\" and ans[\"FreeText\"] == \"true\":\n",
    "            answer[\"feelAboutAd\"] = 2\n",
    "        elif  ans['QuestionIdentifier'] == \"d1.neutral\" and ans[\"FreeText\"] == \"true\":\n",
    "            answer[\"feelAboutAd\"] = 3\n",
    "        elif  ans['QuestionIdentifier'] == \"d1.agree\" and ans[\"FreeText\"] == \"true\":\n",
    "            answer[\"feelAboutAd\"] = 4\n",
    "        elif  ans['QuestionIdentifier'] == \"d1.strong_agree\" and ans[\"FreeText\"] == \"true\":\n",
    "            answer[\"feelAboutAd\"] = 5\n",
    "            \n",
    "        elif  ans['QuestionIdentifier'] == \"q1.strong_disagree\" and ans[\"FreeText\"] == \"true\":\n",
    "            answer[\"q1\"] = 1\n",
    "        elif  ans['QuestionIdentifier'] == \"q1.disagree\" and ans[\"FreeText\"] == \"true\":\n",
    "            answer[\"q1\"] = 2\n",
    "        elif  ans['QuestionIdentifier'] == \"q1.neutral\" and ans[\"FreeText\"] == \"true\":\n",
    "            answer[\"q1\"] = 3\n",
    "        elif  ans['QuestionIdentifier'] == \"q1.agree\" and ans[\"FreeText\"] == \"true\":\n",
    "            answer[\"q1\"] = 4\n",
    "        elif  ans['QuestionIdentifier'] == \"q1.strong_agree\" and ans[\"FreeText\"] == \"true\":\n",
    "            answer[\"q1\"] = 5\n",
    "            \n",
    "        elif  ans['QuestionIdentifier'] == \"q2.strong_disagree\" and ans[\"FreeText\"] == \"true\":\n",
    "            answer[\"q2\"] = 1\n",
    "        elif  ans['QuestionIdentifier'] == \"q2.disagree\" and ans[\"FreeText\"] == \"true\":\n",
    "            answer[\"q2\"] = 2\n",
    "        elif  ans['QuestionIdentifier'] == \"q2.neutral\" and ans[\"FreeText\"] == \"true\":\n",
    "            answer[\"q2\"] = 3\n",
    "        elif  ans['QuestionIdentifier'] == \"q2.agree\" and ans[\"FreeText\"] == \"true\":\n",
    "            answer[\"q2\"] = 4\n",
    "        elif  ans['QuestionIdentifier'] == \"q2.strong_agree\" and ans[\"FreeText\"] == \"true\":\n",
    "            answer[\"q2\"] = 5\n",
    "            \n",
    "        elif  ans['QuestionIdentifier'] == \"q3.strong_disagree\" and ans[\"FreeText\"] == \"true\":\n",
    "            answer[\"q3\"] = 1\n",
    "        elif  ans['QuestionIdentifier'] == \"q3.disagree\" and ans[\"FreeText\"] == \"true\":\n",
    "            answer[\"q3\"] = 2\n",
    "        elif  ans['QuestionIdentifier'] == \"q3.neutral\" and ans[\"FreeText\"] == \"true\":\n",
    "            answer[\"q3\"] = 3\n",
    "        elif  ans['QuestionIdentifier'] == \"q3.agree\" and ans[\"FreeText\"] == \"true\":\n",
    "            answer[\"q3\"] = 4\n",
    "        elif  ans['QuestionIdentifier'] == \"q3.strong_agree\" and ans[\"FreeText\"] == \"true\":\n",
    "            answer[\"q3\"] = 5\n",
    "            \n",
    "        elif  ans['QuestionIdentifier'] == \"q4.strong_disagree\" and ans[\"FreeText\"] == \"true\":\n",
    "            answer[\"q4\"] = 1\n",
    "        elif  ans['QuestionIdentifier'] == \"q4.disagree\" and ans[\"FreeText\"] == \"true\":\n",
    "            answer[\"q4\"] = 2\n",
    "        elif  ans['QuestionIdentifier'] == \"q4.neutral\" and ans[\"FreeText\"] == \"true\":\n",
    "            answer[\"q4\"] = 3\n",
    "        elif  ans['QuestionIdentifier'] == \"q4.agree\" and ans[\"FreeText\"] == \"true\":\n",
    "            answer[\"q4\"] = 4\n",
    "        elif  ans['QuestionIdentifier'] == \"q4.strong_agree\" and ans[\"FreeText\"] == \"true\":\n",
    "            answer[\"q4\"] = 5\n",
    "            \n",
    "        elif  ans['QuestionIdentifier'] == \"q5.strong_disagree\" and ans[\"FreeText\"] == \"true\":\n",
    "            answer[\"q5\"] = 1\n",
    "        elif  ans['QuestionIdentifier'] == \"q5.disagree\" and ans[\"FreeText\"] == \"true\":\n",
    "            answer[\"q5\"] = 2\n",
    "        elif  ans['QuestionIdentifier'] == \"q5.neutral\" and ans[\"FreeText\"] == \"true\":\n",
    "            answer[\"q5\"] = 3\n",
    "        elif  ans['QuestionIdentifier'] == \"q5.agree\" and ans[\"FreeText\"] == \"true\":\n",
    "            answer[\"q5\"] = 4\n",
    "        elif  ans['QuestionIdentifier'] == \"q5.strong_agree\" and ans[\"FreeText\"] == \"true\":\n",
    "            answer[\"q5\"] = 5\n",
    "            \n",
    "        elif  ans['QuestionIdentifier'] == \"q6.strong_disagree\" and ans[\"FreeText\"] == \"true\":\n",
    "            answer[\"q6\"] = 1\n",
    "        elif  ans['QuestionIdentifier'] == \"q6.disagree\" and ans[\"FreeText\"] == \"true\":\n",
    "            answer[\"q6\"] = 2\n",
    "        elif  ans['QuestionIdentifier'] == \"q6.neutral\" and ans[\"FreeText\"] == \"true\":\n",
    "            answer[\"q6\"] = 3\n",
    "        elif  ans['QuestionIdentifier'] == \"q6.agree\" and ans[\"FreeText\"] == \"true\":\n",
    "            answer[\"q6\"] = 4\n",
    "        elif  ans['QuestionIdentifier'] == \"q6.strong_agree\" and ans[\"FreeText\"] == \"true\":\n",
    "            answer[\"q6\"] = 5\n",
    "            \n",
    "        elif  ans['QuestionIdentifier'] == \"q7.strong_disagree\" and ans[\"FreeText\"] == \"true\":\n",
    "            answer[\"q7\"] = 1\n",
    "        elif  ans['QuestionIdentifier'] == \"q7.disagree\" and ans[\"FreeText\"] == \"true\":\n",
    "            answer[\"q7\"] = 2\n",
    "        elif  ans['QuestionIdentifier'] == \"q7.neutral\" and ans[\"FreeText\"] == \"true\":\n",
    "            answer[\"q7\"] = 3\n",
    "        elif  ans['QuestionIdentifier'] == \"q7.agree\" and ans[\"FreeText\"] == \"true\":\n",
    "            answer[\"q7\"] = 4\n",
    "        elif  ans['QuestionIdentifier'] == \"q7.strong_agree\" and ans[\"FreeText\"] == \"true\":\n",
    "            answer[\"q7\"] = 5\n",
    "            \n",
    "        elif  ans['QuestionIdentifier'] == \"q8.strong_disagree\" and ans[\"FreeText\"] == \"true\":\n",
    "            answer[\"q8\"] = 1\n",
    "        elif  ans['QuestionIdentifier'] == \"q8.disagree\" and ans[\"FreeText\"] == \"true\":\n",
    "            answer[\"q8\"] = 2\n",
    "        elif  ans['QuestionIdentifier'] == \"q8.neutral\" and ans[\"FreeText\"] == \"true\":\n",
    "            answer[\"q8\"] = 3\n",
    "        elif  ans['QuestionIdentifier'] == \"q8.agree\" and ans[\"FreeText\"] == \"true\":\n",
    "            answer[\"q8\"] = 4\n",
    "        elif  ans['QuestionIdentifier'] == \"q8.strong_agree\" and ans[\"FreeText\"] == \"true\":\n",
    "            answer[\"q8\"] = 5\n",
    "            \n",
    "        elif  ans['QuestionIdentifier'] == \"q9.strong_disagree\" and ans[\"FreeText\"] == \"true\":\n",
    "            answer[\"q9\"] = 1\n",
    "        elif  ans['QuestionIdentifier'] == \"q9.disagree\" and ans[\"FreeText\"] == \"true\":\n",
    "            answer[\"q9\"] = 2\n",
    "        elif  ans['QuestionIdentifier'] == \"q9.neutral\" and ans[\"FreeText\"] == \"true\":\n",
    "            answer[\"q9\"] = 3\n",
    "        elif  ans['QuestionIdentifier'] == \"q9.agree\" and ans[\"FreeText\"] == \"true\":\n",
    "            answer[\"q9\"] = 4\n",
    "        elif  ans['QuestionIdentifier'] == \"q9.strong_agree\" and ans[\"FreeText\"] == \"true\":\n",
    "            answer[\"q9\"] = 5\n",
    "            \n",
    "        elif  ans['QuestionIdentifier'] == \"q10.strong_disagree\" and ans[\"FreeText\"] == \"true\":\n",
    "            answer[\"q10\"] = 1\n",
    "        elif  ans['QuestionIdentifier'] == \"q10.disagree\" and ans[\"FreeText\"] == \"true\":\n",
    "            answer[\"q10\"] = 2\n",
    "        elif  ans['QuestionIdentifier'] == \"q10.neutral\" and ans[\"FreeText\"] == \"true\":\n",
    "            answer[\"q10\"] = 3\n",
    "        elif  ans['QuestionIdentifier'] == \"q10.agree\" and ans[\"FreeText\"] == \"true\":\n",
    "            answer[\"q10\"] = 4\n",
    "        elif  ans['QuestionIdentifier'] == \"q10.strong_agree\" and ans[\"FreeText\"] == \"true\":\n",
    "            answer[\"q10\"] = 5\n",
    "            \n",
    "        elif  ans['QuestionIdentifier'] == \"q11.strong_disagree\" and ans[\"FreeText\"] == \"true\":\n",
    "            answer[\"q11\"] = 1\n",
    "        elif  ans['QuestionIdentifier'] == \"q11.disagree\" and ans[\"FreeText\"] == \"true\":\n",
    "            answer[\"q11\"] = 2\n",
    "        elif  ans['QuestionIdentifier'] == \"q11.neutral\" and ans[\"FreeText\"] == \"true\":\n",
    "            answer[\"q11\"] = 3\n",
    "        elif  ans['QuestionIdentifier'] == \"q11.agree\" and ans[\"FreeText\"] == \"true\":\n",
    "            answer[\"q11\"] = 4\n",
    "        elif  ans['QuestionIdentifier'] == \"q11.strong_agree\" and ans[\"FreeText\"] == \"true\":\n",
    "            answer[\"q11\"] = 5\n",
    "            \n",
    "        elif  ans['QuestionIdentifier'] == \"q12.strong_disagree\" and ans[\"FreeText\"] == \"true\":\n",
    "            answer[\"q12\"] = 1\n",
    "        elif  ans['QuestionIdentifier'] == \"q12.disagree\" and ans[\"FreeText\"] == \"true\":\n",
    "            answer[\"q12\"] = 2\n",
    "        elif  ans['QuestionIdentifier'] == \"q12.neutral\" and ans[\"FreeText\"] == \"true\":\n",
    "            answer[\"q12\"] = 3\n",
    "        elif  ans['QuestionIdentifier'] == \"q12.agree\" and ans[\"FreeText\"] == \"true\":\n",
    "            answer[\"q12\"] = 4\n",
    "        elif  ans['QuestionIdentifier'] == \"q12.strong_agree\" and ans[\"FreeText\"] == \"true\":\n",
    "            answer[\"q12\"] = 5\n",
    "    return answer"
   ]
  },
  {
   "cell_type": "code",
   "execution_count": 53,
   "metadata": {
    "colab": {},
    "colab_type": "code",
    "id": "nxK67ZmMgSbE",
    "outputId": "60df4881-f9f4-40d6-969f-f2f328bbc84b"
   },
   "outputs": [
    {
     "name": "stdout",
     "output_type": "stream",
     "text": [
      "[\n",
      "  {\n",
      "    \"image1\": \"https://my-image-repo-520.s3.amazonaws.com/ads/Alternet+Page+-+NRA+Ad.png\",\n",
      "    \"image2\": \"https://my-image-repo-520.s3.amazonaws.com/ads/Alternet+Page+-+NRA+Ad.png\",\n",
      "    \"image3\": \"https://my-image-repo-520.s3.amazonaws.com/ads/NYT+Page2+-+NRA+Ad.png\",\n",
      "    \"image4\": \"https://my-image-repo-520.s3.amazonaws.com/ads/NYT+Page2+-+Impeach+Ad.png\",\n",
      "    \"image5\": \"https://my-image-repo-520.s3.amazonaws.com/ads/Daily+Kos+Page+-+Impeach+Ad.png\",\n",
      "    \"image6\": \"https://my-image-repo-520.s3.amazonaws.com/ads/NewsMax+Page+-+Wallet+Ad.png\",\n",
      "    \"image7\": \"https://my-image-repo-520.s3.amazonaws.com/ads/Alternet+Page+-+Liberal+Quiz+Ad.png\",\n",
      "    \"image8\": \"https://my-image-repo-520.s3.amazonaws.com/ads/Breitbart+Page+-+NRA+Ad.PNG\",\n",
      "    \"image9\": \"https://my-image-repo-520.s3.amazonaws.com/ads/NYT+Page+-+Adidas+Ad.png\",\n",
      "    \"image10\": \"https://my-image-repo-520.s3.amazonaws.com/ads/NYT+Page2+-+Wallet+Ad.png\",\n",
      "    \"image11\": \"https://my-image-repo-520.s3.amazonaws.com/ads/Daily+Kos+Page+-+Adidas+Ad.PNG\",\n",
      "    \"image12\": \"https://my-image-repo-520.s3.amazonaws.com/ads/Daily+Kos+Page+-+Wallet+Ad.PNG\",\n",
      "    \"hit_id\": \"3WUVMVA7OBZJVEILYGFUHO4YLO9ZA2\",\n",
      "    \"status\": \"Assignable\",\n",
      "    \"assignments_submitted_count\": 1,\n",
      "    \"answers\": [\n",
      "      {\n",
      "        \"Hispanic\": \"Yes\",\n",
      "        \"age\": \"25-34\",\n",
      "        \"feelAboutAd\": 3,\n",
      "        \"education\": \"associates\",\n",
      "        \"gender\": \"Female\",\n",
      "        \"occupation\": \"employed_teacher\",\n",
      "        \"q1\": 5,\n",
      "        \"q11\": 3,\n",
      "        \"q12\": 2,\n",
      "        \"q2\": 5,\n",
      "        \"q3\": 5,\n",
      "        \"q4\": 4,\n",
      "        \"q5\": 4,\n",
      "        \"q6\": 4,\n",
      "        \"q7\": 4,\n",
      "        \"q8\": 4,\n",
      "        \"q9\": 4,\n",
      "        \"race\": \"white\",\n",
      "        \"zipCode\": \"23124\"\n",
      "      }\n",
      "    ]\n",
      "  }\n",
      "]\n"
     ]
    }
   ],
   "source": [
    "# with open('result/result-10-11-2019 15:51:20.json', 'r') as f:\n",
    "#     results = json.load(f.read())\n",
    "    \n",
    "for item in results:\n",
    "    \n",
    "    # Get the status of the HIT\n",
    "    hit = client.get_hit(HITId=item['hit_id'])\n",
    "    item['status'] = hit['HIT']['HITStatus']\n",
    "\n",
    "    # Get a list of the Assignments that have been submitted by Workers\n",
    "    assignmentsList = client.list_assignments_for_hit(\n",
    "        HITId=item['hit_id'],\n",
    "        AssignmentStatuses=['Submitted', 'Approved'],\n",
    "        MaxResults=100\n",
    "    )\n",
    "\n",
    "    assignments = assignmentsList['Assignments']\n",
    "    item['assignments_submitted_count'] = len(assignments)\n",
    "\n",
    "    answers = []\n",
    "    for assignment in assignments:\n",
    "    \n",
    "        # Retreive the attributes for each Assignment\n",
    "        worker_id = assignment['WorkerId']\n",
    "        assignment_id = assignment['AssignmentId']\n",
    "        \n",
    "        # Retrieve the value submitted by the Worker from the XML\n",
    "        answer_dict = xmltodict.parse(assignment['Answer'])\n",
    "#         print(answer_dict)\n",
    "        answer = getAnsewer(answer_dict)\n",
    "#         print (answer)\n",
    "        answers.append(answer)\n",
    "        \n",
    "        # Approve the Assignment (if it hasn't already been approved)\n",
    "        if assignment['AssignmentStatus'] == 'Submitted':\n",
    "            client.approve_assignment(\n",
    "                AssignmentId=assignment_id,\n",
    "                OverrideRejection=False\n",
    "            )\n",
    "    \n",
    "    # Add the answers that have been retrieved for this item\n",
    "    item['answers'] = answers\n",
    "#     if len(answers) > 0:\n",
    "#         item['avg_answer'] = sum(answers)/len(answers)\n",
    "\n",
    "print(json.dumps(results,indent=2))"
   ]
  },
  {
   "cell_type": "code",
   "execution_count": null,
   "metadata": {},
   "outputs": [],
   "source": []
  }
 ],
 "metadata": {
  "colab": {
   "name": "MTurk.ipynb",
   "provenance": []
  },
  "kernelspec": {
   "display_name": "Python 3",
   "language": "python",
   "name": "python3"
  },
  "language_info": {
   "codemirror_mode": {
    "name": "ipython",
    "version": 3
   },
   "file_extension": ".py",
   "mimetype": "text/x-python",
   "name": "python",
   "nbconvert_exporter": "python",
   "pygments_lexer": "ipython3",
   "version": "3.7.1"
  }
 },
 "nbformat": 4,
 "nbformat_minor": 1
}
