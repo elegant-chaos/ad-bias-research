{
 "cells": [
  {
   "cell_type": "code",
   "execution_count": 8,
   "metadata": {},
   "outputs": [],
   "source": [
    "import pandas as pd\n",
    "import numpy as np\n",
    "from sklearn.model_selection import train_test_split\n",
    "\n",
    "from sklearn.linear_model.logistic import LogisticRegression \n",
    "from sklearn.neighbors import KNeighborsClassifier\n",
    "from sklearn.ensemble import RandomForestClassifier \n",
    "from sklearn.svm import SVC \n",
    "\n",
    "from sklearn.metrics import accuracy_score\n",
    "\n",
    "from sklearn.preprocessing import StandardScaler\n",
    "from sklearn.model_selection import cross_val_score\n",
    "from sklearn.model_selection import GridSearchCV"
   ]
  },
  {
   "cell_type": "markdown",
   "metadata": {},
   "source": [
    "## Read Data"
   ]
  },
  {
   "cell_type": "code",
   "execution_count": 2,
   "metadata": {},
   "outputs": [],
   "source": [
    "df = pd.read_csv('../data/processed/final_long.csv')\n",
    "for i,j in zip(*np.where(pd.isnull(df))):\n",
    "    df.iloc[i,j] = \"NA\""
   ]
  },
  {
   "cell_type": "markdown",
   "metadata": {},
   "source": [
    "## Create data set"
   ]
  },
  {
   "cell_type": "code",
   "execution_count": 3,
   "metadata": {},
   "outputs": [],
   "source": [
    "# X_column = ['age', 'gender', 'education', 'occupation', 'Hispanic', 'race','Political', \n",
    "#             'feelAboutAd', 'image','City', 'State', 'Region','Division', 'page_type', 'relevant']\n",
    "X_column = ['age', 'gender', 'education', 'occupation', 'Hispanic', 'race','Political', \n",
    "            'feelAboutAd', 'image', 'State', 'Region','Division', 'page_type', 'relevant']\n",
    "\n",
    "num_column = ['age','feelAboutAd']\n",
    "\n",
    "X_df = pd.DataFrame()\n",
    "y_df = pd.DataFrame()\n",
    "\n",
    "for col in X_column:\n",
    "    if col not in num_column:\n",
    "        t = pd.Categorical(df[col])\n",
    "        X_df[col] = t.rename_categories(range(len(t.categories)))\n",
    "    else:\n",
    "        X_df[col] = df[col]\n",
    "\n",
    "y_df = df['rating']\n",
    "\n",
    "\n",
    "X = X_df.values.astype('int32')\n",
    "y = y_df.values.astype('int32')"
   ]
  },
  {
   "cell_type": "code",
   "execution_count": 4,
   "metadata": {},
   "outputs": [],
   "source": [
    "X_train, X_test, y_train, y_test = train_test_split(X, y, test_size=0.2, random_state=0)\n",
    "\n",
    "feature_scaler = StandardScaler()\n",
    "X_train = feature_scaler.fit_transform(X_train)\n",
    "X_test = feature_scaler.transform(X_test)"
   ]
  },
  {
   "cell_type": "markdown",
   "metadata": {},
   "source": [
    "## Models\n"
   ]
  },
  {
   "cell_type": "code",
   "execution_count": 6,
   "metadata": {},
   "outputs": [],
   "source": [
    "def getModel(modelName):\n",
    "    if modelName == \"lr\":\n",
    "        model = LogisticRegression(penalty='l2', dual=False,tol=0.0001,C=1.0,\n",
    "                       fit_intercept=True,intercept_scaling=1,class_weight=None,\n",
    "                       random_state=None,solver='liblinear',max_iter=100, \n",
    "                       multi_class='warn',verbose=0,warm_start=False,\n",
    "                       n_jobs=None)\n",
    "        grid_param = {\n",
    "            'penalty':['l1', 'l2'],\n",
    "            'C': np.logspace(-4, 4, 10),\n",
    "        }\n",
    "    elif modelName == \"randomforest\":\n",
    "        model = RandomForestClassifier(n_estimators='warn',criterion='gini',max_depth=None,\n",
    "                           min_samples_leaf=1,min_weight_fraction_leaf=0.0,\n",
    "                           min_impurity_split=None, bootstrap=True, oob_score=False, n_jobs=None, \n",
    "                            random_state=None, verbose=0, warm_start=False, class_weight=None)\n",
    "        grid_param = {\n",
    "            'n_estimators': [100, 300, 500, 800, 1000],\n",
    "            'criterion': ['gini', 'entropy'],\n",
    "            'bootstrap': [True, False]\n",
    "        }\n",
    "    elif modelName == \"knn\":\n",
    "        model = KNeighborsClassifier(n_neighbors=5,weights='uniform',algorithm='auto',\n",
    "                         leaf_size=30,p=2,metric='minkowski',metric_params=None,\n",
    "                         n_jobs=None)\n",
    "        grid_param ={\n",
    "            'n_neighbors' :[2,5,10,20,30],\n",
    "            'leaf_size' : [10,20,30,40]\n",
    "        }\n",
    "    elif modelName == \"svm\":\n",
    "        model = SVC(C=1.0, kernel='rbf', degree=3, gamma='auto_deprecated', coef0=0.0, shrinking=True, \n",
    "         probability=False, tol=0.001, cache_size=200, class_weight=None, verbose=False, \n",
    "         max_iter=-1, decision_function_shape='ovr', random_state=None)\n",
    "        \n",
    "        grid_param = {\n",
    "            'C' : [0.001, 0.01, 0.1, 1, 10],\n",
    "            'gamma': [0.001, 0.01, 0.1, 1]\n",
    "        }\n",
    "        \n",
    "    return model, grid_param"
   ]
  },
  {
   "cell_type": "markdown",
   "metadata": {},
   "source": [
    "## Model Grid Search"
   ]
  },
  {
   "cell_type": "code",
   "execution_count": 10,
   "metadata": {},
   "outputs": [
    {
     "name": "stdout",
     "output_type": "stream",
     "text": [
      "Start grid search for lr\n"
     ]
    },
    {
     "name": "stderr",
     "output_type": "stream",
     "text": [
      "/home/pooya/anaconda3/lib/python3.7/site-packages/sklearn/linear_model/logistic.py:469: FutureWarning: Default multi_class will be changed to 'auto' in 0.22. Specify the multi_class option to silence this warning.\n",
      "  \"this warning.\", FutureWarning)\n",
      "/home/pooya/anaconda3/lib/python3.7/site-packages/sklearn/linear_model/logistic.py:469: FutureWarning: Default multi_class will be changed to 'auto' in 0.22. Specify the multi_class option to silence this warning.\n",
      "  \"this warning.\", FutureWarning)\n"
     ]
    },
    {
     "name": "stdout",
     "output_type": "stream",
     "text": [
      "Best Param for lr is {'C': 0.046415888336127774, 'penalty': 'l1'} with 0.40873996294008647 accuracy\n",
      "Valdiation Accurtacy = 0.40185185185185185\n",
      "=============================\n",
      "Start grid search for randomforest\n"
     ]
    },
    {
     "name": "stderr",
     "output_type": "stream",
     "text": [
      "/home/pooya/anaconda3/lib/python3.7/site-packages/joblib/externals/loky/process_executor.py:706: UserWarning: A worker stopped while some jobs were given to the executor. This can be caused by a too short worker timeout or by a memory leak.\n",
      "  \"timeout or by a memory leak.\", UserWarning\n"
     ]
    },
    {
     "name": "stdout",
     "output_type": "stream",
     "text": [
      "Best Param for randomforest is {'bootstrap': True, 'criterion': 'entropy', 'n_estimators': 800} with 0.4567634342186535 accuracy\n",
      "Valdiation Accurtacy = 0.4617283950617284\n",
      "=============================\n",
      "Start grid search for knn\n",
      "Best Param for knn is {'leaf_size': 10, 'n_neighbors': 10} with 0.4298949969116739 accuracy\n",
      "Valdiation Accurtacy = 0.4302469135802469\n",
      "=============================\n",
      "Start grid search for svm\n",
      "Best Param for svm is {'C': 1, 'gamma': 0.1} with 0.45213094502779494 accuracy\n",
      "Valdiation Accurtacy = 0.4506172839506173\n",
      "=============================\n"
     ]
    }
   ],
   "source": [
    "models = [\"lr\",\"randomforest\",\"knn\",\"svm\"]\n",
    "for m in models:\n",
    "    model, param = getModel(m)\n",
    "    gd_sr = GridSearchCV(estimator=model,param_grid=param,scoring='accuracy',cv=5,n_jobs=-1)\n",
    "    print (\"Start grid search for {}\".format(m))\n",
    "    gd_sr.fit(X_train, y_train)\n",
    "    best_parameters = gd_sr.best_params_\n",
    "    best_result = gd_sr.best_score_\n",
    "    best_estimator = gd_sr.best_estimator_\n",
    "    print (\"Best Param for {} is {} with {} accuracy\".format(m,best_parameters,best_result))\n",
    "    best_estimator.fit(X_train,y_train)\n",
    "    print(\"Valdiation Accurtacy = {}\".format(best_estimator.score(X_test,y_test)))\n",
    "    print(\"=============================\")"
   ]
  },
  {
   "cell_type": "code",
   "execution_count": null,
   "metadata": {},
   "outputs": [],
   "source": []
  }
 ],
 "metadata": {
  "kernelspec": {
   "display_name": "Python 3",
   "language": "python",
   "name": "python3"
  },
  "language_info": {
   "codemirror_mode": {
    "name": "ipython",
    "version": 3
   },
   "file_extension": ".py",
   "mimetype": "text/x-python",
   "name": "python",
   "nbconvert_exporter": "python",
   "pygments_lexer": "ipython3",
   "version": "3.7.3"
  }
 },
 "nbformat": 4,
 "nbformat_minor": 2
}
